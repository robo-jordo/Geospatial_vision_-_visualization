{
 "cells": [
  {
   "cell_type": "markdown",
   "metadata": {},
   "source": [
    "# Pole detection from point cloud"
   ]
  },
  {
   "cell_type": "markdown",
   "metadata": {},
   "source": [
    "## Process followed:\n",
    "* Import data\n",
    "* Visualize data\n",
    "* Process point cloud data\n",
    "    * Downsample\n",
    "    * Remove outliers\n",
    "* Planar filtering\n",
    "* Clustering points into poles (With automatic number of poles computation)\n",
    "* Fitting a spline to the pole\n",
    "* Visualize results"
   ]
  },
  {
   "cell_type": "markdown",
   "metadata": {},
   "source": [
    "Import libraries"
   ]
  },
  {
   "cell_type": "code",
   "execution_count": 24,
   "metadata": {},
   "outputs": [],
   "source": [
    "import numpy as np\n",
    "import open3d as o3d\n",
    "import csv\n",
    "import matplotlib.pyplot as plt\n",
    "from sklearn.cluster import KMeans\n",
    "from sklearn import preprocessing\n",
    "from sklearn.cluster import AgglomerativeClustering\n",
    "from sklearn.cluster import DBSCAN\n",
    "import collections\n",
    "%matplotlib inline\n",
    "import sys"
   ]
  },
  {
   "cell_type": "markdown",
   "metadata": {},
   "source": [
    "## Define global variables"
   ]
  },
  {
   "cell_type": "code",
   "execution_count": 3,
   "metadata": {},
   "outputs": [],
   "source": [
    "lat = []\n",
    "lon = []\n",
    "alt = []\n",
    "intensity = []"
   ]
  },
  {
   "cell_type": "markdown",
   "metadata": {},
   "source": [
    "## Some useful functions"
   ]
  },
  {
   "cell_type": "markdown",
   "metadata": {},
   "source": [
    "Converting Lat, Lon, Alt to XYZ"
   ]
  },
  {
   "cell_type": "code",
   "execution_count": 4,
   "metadata": {},
   "outputs": [],
   "source": [
    "def LLA_to_XYZ(Lat,Lon,Alt,intensity):\n",
    "    ''' Takes Latitude, Longitude and Altitdue and converts this data into\n",
    "    x,y and z cartesion co-ordinates. Returns intensity as is.'''\n",
    "    r_earth = (6378.137*1000)\n",
    "    LatCos = np.cos(Lat*np.pi/180)\n",
    "    LatSin = np.sin(Lat*np.pi/180)\n",
    "    LonCos = np.cos(Lon*np.pi/180)\n",
    "    LonSin = np.sin(Lon*np.pi/180)\n",
    "    f = 1.0 / 298.257224\n",
    "    C = 1.0/ np.sqrt(LatCos**2 + ((1-f)**2)*((LatSin)**2))\n",
    "    S = ((1.0 - f)**2)*(C)\n",
    "    x = (r_earth*C)*LatCos*LonCos\n",
    "    y = (r_earth*C)*LatCos*LonSin\n",
    "    z = Alt\n",
    "    return x,y,z,intensity"
   ]
  },
  {
   "cell_type": "markdown",
   "metadata": {},
   "source": [
    "Reading in the data"
   ]
  },
  {
   "cell_type": "code",
   "execution_count": 5,
   "metadata": {},
   "outputs": [],
   "source": [
    "def readfile(filename):\n",
    "    ''' This function reads the file -\"filename\"- and appends \n",
    "    the data to the lat,lon,alt and intensity arrays '''\n",
    "    global lat,lon,alt,intensity\n",
    "    with open(filename) as csvfile:\n",
    "        reader = csv.reader(csvfile, delimiter =' ')\n",
    "        for row in reader:\n",
    "            lat.append(float(row[0]))\n",
    "            lon.append(float(row[1]))\n",
    "            alt.append(float(row[2]))\n",
    "            intensity.append(float(row[3]))"
   ]
  },
  {
   "cell_type": "markdown",
   "metadata": {},
   "source": [
    "## Visualizing the initial data"
   ]
  },
  {
   "cell_type": "markdown",
   "metadata": {},
   "source": [
    "Reading in the data"
   ]
  },
  {
   "cell_type": "code",
   "execution_count": 6,
   "metadata": {},
   "outputs": [],
   "source": [
    "readfile(\"final_project_data/final_project_point_cloud.fuse\")\n",
    "points_xyzi = np.ones((len(lat),4))"
   ]
  },
  {
   "cell_type": "markdown",
   "metadata": {},
   "source": [
    "Converting from Lat, Long, Alt to XYZ "
   ]
  },
  {
   "cell_type": "code",
   "execution_count": 7,
   "metadata": {},
   "outputs": [],
   "source": [
    "for i in range(0,len(lat)):\n",
    "    points_xyzi[i] = LLA_to_XYZ(lat[i],lon[i],alt[i],intensity[i])"
   ]
  },
  {
   "cell_type": "markdown",
   "metadata": {},
   "source": [
    "Check shape of the data"
   ]
  },
  {
   "cell_type": "code",
   "execution_count": 8,
   "metadata": {},
   "outputs": [
    {
     "name": "stdout",
     "output_type": "stream",
     "text": [
      "(430736, 4)\n"
     ]
    }
   ],
   "source": [
    "print(points_xyzi.shape)"
   ]
  },
  {
   "cell_type": "markdown",
   "metadata": {},
   "source": [
    "Check some examples of what we have"
   ]
  },
  {
   "cell_type": "code",
   "execution_count": 9,
   "metadata": {},
   "outputs": [
    {
     "name": "stdout",
     "output_type": "stream",
     "text": [
      "45.90370042\n",
      "11.02826286\n",
      "226.2948\n",
      "4.0\n",
      "[4.36390869e+06 8.50492097e+05 2.26294800e+02 4.00000000e+00]\n"
     ]
    }
   ],
   "source": [
    "print(lat[31])\n",
    "print(lon[31])\n",
    "print(alt[31])\n",
    "print(intensity[31])\n",
    "print(points_xyzi[31])"
   ]
  },
  {
   "cell_type": "markdown",
   "metadata": {},
   "source": [
    "Function to create a point cloud object"
   ]
  },
  {
   "cell_type": "code",
   "execution_count": 10,
   "metadata": {},
   "outputs": [],
   "source": [
    "def write_point_cloud_object(array,name):\n",
    "    ''' Takes array of point cloud (x,y,z) data and writes it to a \n",
    "    point cloud object file viewable in meshLab'''\n",
    "    pc_object = open(name,\"w\")\n",
    "    for j in array:\n",
    "        pc_object.write(\"v \"+str(j[0])+\" \"+str(j[1])+\" \"+str(j[2])+\"\\n\")\n",
    "    pc_object.close"
   ]
  },
  {
   "cell_type": "code",
   "execution_count": 11,
   "metadata": {},
   "outputs": [],
   "source": [
    "write_point_cloud_object(points_xyzi,\"All_data.obj\")"
   ]
  },
  {
   "cell_type": "markdown",
   "metadata": {},
   "source": [
    "### Show the raw point cloud"
   ]
  },
  {
   "cell_type": "code",
   "execution_count": 12,
   "metadata": {},
   "outputs": [],
   "source": [
    "#Using open3d - creating open3d object\n",
    "p = o3d.geometry.PointCloud()\n",
    "\n",
    "#Assigning points to the open3D object\n",
    "p.points = o3d.utility.Vector3dVector(points_xyzi[ : , 0:3])\n",
    "\n",
    "#Assigning colors to each point\n",
    "intens = np.zeros((np.size(points_xyzi[ : , 3]),3))\n",
    "p.colors = o3d.utility.Vector3dVector(intens)\n",
    "\n",
    "#Write point cloud\n",
    "o3d.io.write_point_cloud(\"./Alldata.ply\", p)\n",
    "\n",
    "#Show visualization\n",
    "o3d.visualization.draw_geometries([p])"
   ]
  },
  {
   "cell_type": "markdown",
   "metadata": {},
   "source": [
    "## Downsampling the point cloud"
   ]
  },
  {
   "cell_type": "code",
   "execution_count": 13,
   "metadata": {},
   "outputs": [
    {
     "data": {
      "text/plain": [
       "True"
      ]
     },
     "execution_count": 13,
     "metadata": {},
     "output_type": "execute_result"
    }
   ],
   "source": [
    "#Downsampling by voxel\n",
    "down_voxel = o3d.geometry.voxel_down_sample(p, voxel_size=0.8)\n",
    "o3d.io.write_point_cloud(\"./Downsampled_voxel.ply\", down_voxel)\n",
    "# o3d.visualization.draw_geometries([down_voxel])\n",
    "\n",
    "\n",
    "#Downsampling uniformly\n",
    "down_uniform = o3d.geometry.uniform_down_sample(p, every_k_points=5)\n",
    "o3d.io.write_point_cloud(\"./Downsampled_uniform.ply\", down_uniform)\n",
    "# o3d.visualization.draw_geometries([down_uniform])\n",
    "\n",
    "#Downsampling statistical outlier removal\n",
    "down_stats, ind = o3d.geometry.statistical_outlier_removal(down_voxel,nb_neighbors=50,std_ratio=5.0)\n",
    "# inliers = o3d.geometry.select_down_sample(down_stats, ind)\n",
    "o3d.io.write_point_cloud(\"./Downsampled_Removed_Stat_Outliers.ply\", down_stats)\n",
    "#o3d.visualization.draw_geometries([down_stats])"
   ]
  },
  {
   "cell_type": "markdown",
   "metadata": {},
   "source": [
    "Check number of points in each of the downsampled batches"
   ]
  },
  {
   "cell_type": "code",
   "execution_count": 14,
   "metadata": {},
   "outputs": [
    {
     "name": "stdout",
     "output_type": "stream",
     "text": [
      "Number of points in original point cloud:\n",
      "1292208\n",
      "Number of points in voxel downsampled point cloud:\n",
      "39780\n",
      "Number of points after statistical outlier removal:\n",
      "39630\n"
     ]
    }
   ],
   "source": [
    "print(\"Number of points in original point cloud:\")\n",
    "print(np.size(p.points))\n",
    "print(\"Number of points in voxel downsampled point cloud:\")\n",
    "print(np.size(down_voxel.points))\n",
    "print(\"Number of points after statistical outlier removal:\")\n",
    "print(np.size(down_stats.points))"
   ]
  },
  {
   "cell_type": "markdown",
   "metadata": {},
   "source": [
    "## Filtering data based on a planar grid system"
   ]
  },
  {
   "cell_type": "markdown",
   "metadata": {},
   "source": [
    "This method will snap points to a grid. \n",
    "For each set of points that lie on a vertex of two dimensions that grid the variation in the third dimensionof the grid can be used to filter the data points.\n",
    "This is a relatively fast computation to perform but does rely on inexact co-ordinates owing to the grid snap procedure.\n",
    "\n",
    "Here is a function to achieve this general principle:"
   ]
  },
  {
   "cell_type": "code",
   "execution_count": 15,
   "metadata": {},
   "outputs": [],
   "source": [
    "def planar_filter(xyzi, grid_size, lower_bound, filter_axis):\n",
    "    # Calculating the scaling factor for the grid size\n",
    "    scale = 1 / grid_size\n",
    "    if scale > 0:\n",
    "        scale = int(scale)\n",
    "    \n",
    "    # Create array of points snapped to the grid\n",
    "    x_snap = np.round(xyzi[:, 0] * scale)\n",
    "    y_snap = np.round(xyzi[:, 1] * scale)\n",
    "    z_snap = np.round(xyzi[:, 2] * scale)\n",
    "\n",
    "    # Dictionaries to store information about each vertex\n",
    "    grids_perp_x = collections.defaultdict(list)\n",
    "    grids_perp_y = collections.defaultdict(list)\n",
    "    grids_perp_z = collections.defaultdict(list)\n",
    "    \n",
    "    # Store information about points snapped to each 2D vertex\n",
    "    for i in range(len(xyzi)):\n",
    "        x_close = x_snap[i]\n",
    "        y_close = y_snap[i]\n",
    "        z_close = z_snap[i]\n",
    "        x = xyzi[i, 0]\n",
    "        y = xyzi[i, 1]\n",
    "        z = xyzi[i, 2]\n",
    "        grids_perp_z[(x_close, y_close)].append((i, z))\n",
    "        grids_perp_y[(x_close, z_close)].append((i, y))\n",
    "        grids_perp_x[(y_close, z_close)].append((i, x))\n",
    "    \n",
    "    poi = []\n",
    "    # Filter to snap points to grid in xy plane and use z as a metric\n",
    "    if filter_axis == 'z':\n",
    "        for xy, i_and_z in grids_perp_z.items():\n",
    "            list_idx, list_z = zip(*i_and_z)\n",
    "            if max(list_z) - min(list_z) >= lower_bound:\n",
    "                poi.extend(list_idx)\n",
    "    # Filter to snap points to grid in xz plane and use y as a metric\n",
    "    if filter_axis == 'y':\n",
    "        for xz, i_and_y in grids_perp_y.items():\n",
    "            list_idx, list_y = zip(*i_and_y)\n",
    "            if max(list_y) - min(list_y) <= lower_bound:\n",
    "                poi.extend(list_idx)\n",
    "    # Filter to snap points to grid in yz plane and use x as a metric\n",
    "    if filter_axis == 'x':\n",
    "        for yz, i_and_x in grids_perp_x.items():\n",
    "            list_idx, list_x = zip(*i_and_x)\n",
    "            if max(list_x) - min(list_x) <= lower_bound:\n",
    "                poi.extend(list_idx)\n",
    "\n",
    "    return poi\n"
   ]
  },
  {
   "cell_type": "markdown",
   "metadata": {},
   "source": [
    "### Using the planar filter\n",
    "Here we use the planar filter on all of the raw point cloud data. \n",
    "We first snap points to the xy plane and then use variation in z as our filtering criterion.\n",
    "We filter out any vertex set of points that do not have a large enough variation in z."
   ]
  },
  {
   "cell_type": "code",
   "execution_count": 16,
   "metadata": {},
   "outputs": [],
   "source": [
    "poi = planar_filter(points_xyzi, grid_size=0.5, lower_bound=6, filter_axis = 'z')\n",
    "xyza_planar = points_xyzi[poi, :]"
   ]
  },
  {
   "cell_type": "markdown",
   "metadata": {},
   "source": [
    "## Clustering points belonging to each pole together"
   ]
  },
  {
   "cell_type": "markdown",
   "metadata": {},
   "source": [
    "### Determining the number of poles\n",
    "It is quite nice to have the code automatically determine the number of poles in the point cloud. \n",
    "This can be done using the elbow method. https://en.wikipedia.org/wiki/Elbow_method_(clustering)"
   ]
  },
  {
   "cell_type": "markdown",
   "metadata": {},
   "source": [
    "We assume there will be less than 20 poles in a point cloud"
   ]
  },
  {
   "cell_type": "code",
   "execution_count": 17,
   "metadata": {},
   "outputs": [],
   "source": [
    "limit = 10"
   ]
  },
  {
   "cell_type": "code",
   "execution_count": 18,
   "metadata": {},
   "outputs": [],
   "source": [
    "X_scaled = preprocessing.scale(xyza_planar[:,0:2])\n",
    "X_norm = preprocessing.normalize(xyza_planar[:, 0:2], norm='l2')\n",
    "\n",
    "scores = []\n",
    "for i in range(limit):\n",
    "    scores.append((KMeans(n_clusters=i+1).fit(X_scaled)).inertia_)"
   ]
  },
  {
   "cell_type": "code",
   "execution_count": 19,
   "metadata": {},
   "outputs": [],
   "source": [
    "delta_scores = np.zeros((limit-1,1))\n",
    "for i in range(limit-1):\n",
    "    delta_scores[i] = scores[i]/scores[i+1]"
   ]
  },
  {
   "cell_type": "code",
   "execution_count": 20,
   "metadata": {},
   "outputs": [
    {
     "name": "stdout",
     "output_type": "stream",
     "text": [
      "[5212.0, 2535.0194523410046, 1410.6890645300573, 787.2602516035803, 429.90852628298444, 202.1512547902377, 90.23435631525213, 10.383769130925721, 8.31133559071642, 6.845084058133125]\n",
      "[[2.056     ]\n",
      " [1.79700794]\n",
      " [1.79189672]\n",
      " [1.83122735]\n",
      " [2.12666761]\n",
      " [2.24029143]\n",
      " [8.68994246]\n",
      " [1.24935024]\n",
      " [1.21420504]]\n"
     ]
    }
   ],
   "source": [
    "print(scores)\n",
    "print(delta_scores)"
   ]
  },
  {
   "cell_type": "code",
   "execution_count": 21,
   "metadata": {},
   "outputs": [
    {
     "data": {
      "image/png": "[encoded data removed]",
      "text/plain": [
       "<Figure size 432x288 with 1 Axes>"
      ]
     },
     "metadata": {
      "needs_background": "light"
     },
     "output_type": "display_data"
    }
   ],
   "source": [
    "x = range(2,limit+1)\n",
    "plt.plot(x,delta_scores)\n",
    "number_of_clusters = np.argmax(delta_scores)+2\n",
    "# we add 2 to the number of clusters since we lose 1 by starting the list at index 0 and we lose another\n",
    "# one as we are looking at the transition from having x to x+1 clusters"
   ]
  },
  {
   "cell_type": "markdown",
   "metadata": {},
   "source": [
    "## Clustering based on correct number of clusters"
   ]
  },
  {
   "cell_type": "markdown",
   "metadata": {},
   "source": [
    "Using Kmeans from sklearn library for clustering.\n",
    "\n",
    "Not the most robust clustering algorithm for spatially complex shapes.\n",
    "\n",
    "Relatively fast computation.\n",
    "\n",
    "Clustering is performed only on x and y co-ordinates."
   ]
  },
  {
   "cell_type": "code",
   "execution_count": 22,
   "metadata": {},
   "outputs": [
    {
     "name": "stdout",
     "output_type": "stream",
     "text": [
      "[4 4 4 ... 3 3 3]\n"
     ]
    }
   ],
   "source": [
    "y_pred = KMeans(n_clusters=number_of_clusters).fit_predict(xyza_planar[:,0:2])"
   ]
  },
  {
   "cell_type": "code",
   "execution_count": 23,
   "metadata": {},
   "outputs": [],
   "source": [
    "#Using open3d - creating open3d object\n",
    "p = o3d.geometry.PointCloud()\n",
    "\n",
    "p.points = o3d.utility.Vector3dVector(xyza_planar[ : , 0:3])\n",
    "# help(o3d.geometry.PointCloud().colors)\n",
    "colours = np.array([[0,0,0],[255,0,255],[0,255,255],[255,0,0],[0,255,0],[0,0,255],[255,128,0],[102,0,51],[0,128,255],[0,0,0],[255,255,0],[255,0,255],[0,255,255],[255,0,0],[0,255,0],[0,0,255],[128,255,0],[255,128,0],[0,128,255],[0,0,0]])\n",
    "colours = colours/255.0\n",
    "intens = np.zeros((np.size(xyza_planar[ : , 3]),3))\n",
    "\n",
    "\n",
    "for i in range(len(y_pred)):\n",
    "    intens[i] = colours[y_pred[i]]\n",
    "\n",
    "\n",
    "p.colors = o3d.utility.Vector3dVector(intens)\n",
    "#p.colors = o3d.utility.Vector3dVector(points_xyzi[ : , 3])\n",
    "o3d.io.write_point_cloud(\"./Alldata.ply\", p)\n",
    "o3d.visualization.draw_geometries([p])"
   ]
  },
  {
   "cell_type": "markdown",
   "metadata": {},
   "source": [
    "Line-fitting to x-z plane plot of the point cloud pole data"
   ]
  },
  {
   "cell_type": "code",
   "execution_count": 61,
   "metadata": {},
   "outputs": [
    {
     "data": {
      "image/png": "[encoded data removed]",
      "text/plain": [
       "<Figure size 432x288 with 1 Axes>"
      ]
     },
     "metadata": {
      "needs_background": "light"
     },
     "output_type": "display_data"
    },
    {
     "data": {
      "image/png": "[encoded data removed]",
      "text/plain": [
       "<Figure size 432x288 with 1 Axes>"
      ]
     },
     "metadata": {
      "needs_background": "light"
     },
     "output_type": "display_data"
    },
    {
     "data": {
      "image/png": "[encoded data removed]",
      "text/plain": [
       "<Figure size 432x288 with 1 Axes>"
      ]
     },
     "metadata": {
      "needs_background": "light"
     },
     "output_type": "display_data"
    },
    {
     "data": {
      "image/png": "[encoded data removed]",
      "text/plain": [
       "<Figure size 432x288 with 1 Axes>"
      ]
     },
     "metadata": {
      "needs_background": "light"
     },
     "output_type": "display_data"
    },
    {
     "data": {
      "image/png": "[encoded data removed]",
      "text/plain": [
       "<Figure size 432x288 with 1 Axes>"
      ]
     },
     "metadata": {
      "needs_background": "light"
     },
     "output_type": "display_data"
    },
    {
     "data": {
      "image/png": "[encoded data removed]",
      "text/plain": [
       "<Figure size 432x288 with 1 Axes>"
      ]
     },
     "metadata": {
      "needs_background": "light"
     },
     "output_type": "display_data"
    },
    {
     "data": {
      "image/png": "[encoded data removed]",
      "text/plain": [
       "<Figure size 432x288 with 1 Axes>"
      ]
     },
     "metadata": {
      "needs_background": "light"
     },
     "output_type": "display_data"
    },
    {
     "data": {
      "image/png": "[encoded data removed]",
      "text/plain": [
       "<Figure size 432x288 with 1 Axes>"
      ]
     },
     "metadata": {
      "needs_background": "light"
     },
     "output_type": "display_data"
    }
   ],
   "source": [
    "#splitting xyza planar into different poles based on labels in y_pred\n",
    "pole0 = np.zeros((1,4))\n",
    "pole1 = np.zeros((1,4))\n",
    "pole2 = np.zeros((1,4))\n",
    "pole3 = np.zeros((1,4))\n",
    "pole4 = np.zeros((1,4))\n",
    "pole5 = np.zeros((1,4))\n",
    "pole6 = np.zeros((1,4))\n",
    "pole7 = np.zeros((1,4))\n",
    "\n",
    "for i in range(len(y_pred)):\n",
    "    if(y_pred[i]==0):\n",
    "        #only add point if it's actually part of the pole and not the ground\n",
    "        #that's clustered with the pole; simple threshold based on plotting\n",
    "        if(xyza_planar[i,2]>227.0):\n",
    "            pole0 = np.append(pole0,xyza_planar[i,:].reshape((1,4)),axis=0)\n",
    "    elif(y_pred[i]==1):\n",
    "        if(xyza_planar[i,2]>227.0):\n",
    "            pole1 = np.append(pole1,xyza_planar[i,:].reshape((1,4)),axis=0)\n",
    "    elif(y_pred[i]==2):\n",
    "        if(xyza_planar[i,2]>227.0):\n",
    "            pole2 = np.append(pole2,xyza_planar[i,:].reshape((1,4)),axis=0)\n",
    "    elif(y_pred[i]==3):\n",
    "        if(xyza_planar[i,2]>227.0 and xyza_planar[i,0]>4363850.1):\n",
    "            pole3 = np.append(pole3,xyza_planar[i,:].reshape((1,4)),axis=0)\n",
    "    elif(y_pred[i]==4):\n",
    "        if(xyza_planar[i,2]>227.0):\n",
    "            pole4 = np.append(pole4,xyza_planar[i,:].reshape((1,4)),axis=0)\n",
    "    elif(y_pred[i]==5):\n",
    "        if(xyza_planar[i,2]>227.0):\n",
    "            pole5 = np.append(pole5,xyza_planar[i,:].reshape((1,4)),axis=0)\n",
    "    elif(y_pred[i]==6):\n",
    "        if(xyza_planar[i,2]>227.0):\n",
    "            pole6 = np.append(pole6,xyza_planar[i,:].reshape((1,4)),axis=0)\n",
    "    elif(y_pred[i]==7):\n",
    "        if(xyza_planar[i,2]>227.0 and xyza_planar[i,0]>4363906.0):\n",
    "            pole7 = np.append(pole7,xyza_planar[i,:].reshape((1,4)),axis=0)\n",
    "\n",
    "pole0 = pole0[1:,:]\n",
    "pole1 = pole1[1:,:]\n",
    "pole2 = pole2[1:,:]\n",
    "pole3 = pole3[1:,:]\n",
    "pole4 = pole4[1:,:]\n",
    "pole5 = pole5[1:,:]\n",
    "pole6 = pole6[1:,:]\n",
    "pole7 = pole7[1:,:]\n",
    "            \n",
    "np.set_printoptions(threshold=sys.maxsize)\n",
    "#print(np.sort(pole3[:,0]))\n",
    "\n",
    "p0 = np.poly1d(np.polyfit(pole0[:,2],pole0[:,0],5))\n",
    "p1 = np.poly1d(np.polyfit(pole1[:,2],pole1[:,0],5))\n",
    "p2 = np.poly1d(np.polyfit(pole2[:,2],pole2[:,0],5))\n",
    "p3 = np.poly1d(np.polyfit(pole3[:,2],pole3[:,0],5))\n",
    "p4 = np.poly1d(np.polyfit(pole4[:,2],pole4[:,0],5))\n",
    "p5 = np.poly1d(np.polyfit(pole5[:,2],pole5[:,0],5))\n",
    "p6 = np.poly1d(np.polyfit(pole6[:,2],pole6[:,0],5))\n",
    "p7 = np.poly1d(np.polyfit(pole7[:,2],pole7[:,0],5))\n",
    "xp = np.linspace(227,234.5,100)\n",
    "\n",
    "plt.plot(pole0[:,0],pole0[:,2],'.', p0(xp),xp, '-')\n",
    "plt.title('Pole0 Line-Fit')\n",
    "plt.show()\n",
    "plt.plot(pole1[:,0],pole1[:,2],'.', p1(xp),xp, '-')\n",
    "plt.title('Pole1 Line-Fit')\n",
    "plt.show()\n",
    "plt.plot(pole2[:,0],pole2[:,2],'.', p2(xp),xp, '-')\n",
    "plt.title('Pole2 Line-Fit')\n",
    "plt.show()\n",
    "plt.plot(pole3[:,0],pole3[:,2],'.', p3(xp),xp, '-')\n",
    "plt.title('Pole3 Line-Fit')\n",
    "plt.show()\n",
    "plt.plot(pole4[:,0],pole4[:,2],'.', p4(xp),xp, '-')\n",
    "plt.title('Pole4 Line-Fit')\n",
    "plt.show()\n",
    "plt.plot(pole5[:,0],pole5[:,2],'.', p5(xp),xp, '-')\n",
    "plt.title('Pole5 Line-Fit')\n",
    "plt.show()\n",
    "plt.plot(pole6[:,0],pole6[:,2],'.', p6(xp),xp, '-')\n",
    "plt.title('Pole6 Line-Fit')\n",
    "plt.show()\n",
    "plt.plot(pole7[:,0],pole7[:,2],'.', p7(xp),xp, '-')\n",
    "plt.title('Pole7 Line-Fit')\n",
    "plt.show()"
   ]
  },
  {
   "cell_type": "code",
   "execution_count": 42,
   "metadata": {},
   "outputs": [
    {
     "name": "stdout",
     "output_type": "stream",
     "text": [
      "[4.36385641e+06 8.50503315e+05 2.25276640e+02]\n"
     ]
    }
   ],
   "source": [
    "xyz_load = np.asarray(down_voxel.points)\n",
    "print(xyz_load[0])"
   ]
  },
  {
   "cell_type": "code",
   "execution_count": null,
   "metadata": {},
   "outputs": [],
   "source": [
    "#Get the normals\n",
    "normals = p\n",
    "#Play with radius and nn numbers\n",
    "o3d.geometry.estimate_normals(normals,search_param=o3d.geometry.KDTreeSearchParamHybrid(radius=0.2,max_nn=10)) \n",
    "o3d.visualization.draw_geometries([normals]) #press n to see the normals"
   ]
  },
  {
   "cell_type": "code",
   "execution_count": null,
   "metadata": {},
   "outputs": [],
   "source": [
    "print(points_xyzi[0])\n",
    "print(points_xyzi[1])  \n",
    "print(points_xyzi[2])  \n",
    "print(points_xyzi[50000])  "
   ]
  },
  {
   "cell_type": "code",
   "execution_count": null,
   "metadata": {},
   "outputs": [],
   "source": [
    "print(\"Range x\")\n",
    "print(np.max(points_xyzi[:,0]))\n",
    "print(np.min(points_xyzi[:,0]))\n",
    "print(\"Range y\")\n",
    "print(np.max(points_xyzi[:,1]))\n",
    "print(np.min(points_xyzi[:,1]))\n",
    "print(\"Range z\")\n",
    "print(np.max(points_xyzi[:,2]))\n",
    "print(np.min(points_xyzi[:,2]))"
   ]
  }
 ],
 "metadata": {
  "kernelspec": {
   "display_name": "Python 3",
   "language": "python",
   "name": "python3"
  },
  "language_info": {
   "codemirror_mode": {
    "name": "ipython",
    "version": 3
   },
   "file_extension": ".py",
   "mimetype": "text/x-python",
   "name": "python",
   "nbconvert_exporter": "python",
   "pygments_lexer": "ipython3",
   "version": "3.7.2"
  }
 },
 "nbformat": 4,
 "nbformat_minor": 2
}
