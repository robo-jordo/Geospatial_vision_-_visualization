{
 "cells": [
  {
   "cell_type": "code",
   "execution_count": 2,
   "metadata": {},
   "outputs": [],
   "source": [
    "import numpy as np\n",
    "import open3d as o3d\n",
    "import csv"
   ]
  },
  {
   "cell_type": "code",
   "execution_count": 3,
   "metadata": {},
   "outputs": [],
   "source": [
    "lat = []\n",
    "lon = []\n",
    "alt = []\n",
    "intensity = []"
   ]
  },
  {
   "cell_type": "code",
   "execution_count": 4,
   "metadata": {},
   "outputs": [],
   "source": [
    "def LLA_to_XYZ(Lat,Lon,Alt,intensity):\n",
    "    ''' Takes Latitude, Longitude and Altitdue and converts this data into\n",
    "    x,y and z cartesion co-ordinates. Returns intensity as is.'''\n",
    "    r_earth = (6378.137*1000)+Alt\n",
    "    LatCos = np.cos(Lat*np.pi/180)\n",
    "    LatSin = np.sin(Lat*np.pi/180)\n",
    "    LonCos = np.cos(Lon*np.pi/180)\n",
    "    LonSin = np.sin(Lon*np.pi/180)\n",
    "    f = 1.0 / 298.257224\n",
    "    C = 1.0/ np.sqrt(LatCos**2 + ((1-f)**2)*((LatSin)**2))\n",
    "    S = ((1.0 - f)**2)*(C)\n",
    "    x = (r_earth*C)*LatCos*LonCos\n",
    "    y = (r_earth*C)*LatCos*LonSin\n",
    "    z = (r_earth*S)*LatSin\n",
    "    return x,y,z,intensity"
   ]
  },
  {
   "cell_type": "code",
   "execution_count": 5,
   "metadata": {},
   "outputs": [],
   "source": [
    "def readfile(filename):\n",
    "    ''' This function reads the file -\"filename\"- and appends \n",
    "    the data to the lat,lon,alt and intensity arrays '''\n",
    "    global lat,lon,alt,intensity\n",
    "    with open(filename) as csvfile:\n",
    "        reader = csv.reader(csvfile, delimiter =' ')\n",
    "        for row in reader:\n",
    "            lat.append(float(row[0]))\n",
    "            lon.append(float(row[1]))\n",
    "            alt.append(float(row[2]))\n",
    "            intensity.append(float(row[3]))"
   ]
  },
  {
   "cell_type": "code",
   "execution_count": 6,
   "metadata": {},
   "outputs": [],
   "source": [
    "readfile(\"final_project_data/final_project_point_cloud.fuse\")\n",
    "points_xyzi = np.ones((len(lat),4))"
   ]
  },
  {
   "cell_type": "code",
   "execution_count": 7,
   "metadata": {},
   "outputs": [],
   "source": [
    "for i in range(0,len(lat)):\n",
    "    points_xyzi[i] = LLA_to_XYZ(lat[i],lon[i],alt[i],intensity[i])"
   ]
  },
  {
   "cell_type": "code",
   "execution_count": 8,
   "metadata": {},
   "outputs": [
    {
     "name": "stdout",
     "output_type": "stream",
     "text": [
      "(430736, 4)\n"
     ]
    }
   ],
   "source": [
    "print(points_xyzi.shape)"
   ]
  },
  {
   "cell_type": "code",
   "execution_count": 9,
   "metadata": {},
   "outputs": [
    {
     "name": "stdout",
     "output_type": "stream",
     "text": [
      "45.90370042\n",
      "11.02826286\n",
      "226.2948\n",
      "4.0\n",
      "[4.36406352e+06 8.50522272e+05 4.55796734e+06 4.00000000e+00]\n"
     ]
    }
   ],
   "source": [
    "print(lat[31])\n",
    "print(lon[31])\n",
    "print(alt[31])\n",
    "print(intensity[31])\n",
    "print(points_xyzi[31])"
   ]
  },
  {
   "cell_type": "code",
   "execution_count": 10,
   "metadata": {},
   "outputs": [],
   "source": [
    "def write_point_cloud_object(array,name):\n",
    "    ''' Takes array of point cloud (x,y,z) data and writes it to a \n",
    "    point cloud object file viewable in meshLab'''\n",
    "    pc_object = open(name,\"w\")\n",
    "    for j in array:\n",
    "        pc_object.write(\"v \"+str(j[0])+\" \"+str(j[1])+\" \"+str(j[2])+\"\\n\")\n",
    "    pc_object.close"
   ]
  },
  {
   "cell_type": "code",
   "execution_count": 11,
   "metadata": {},
   "outputs": [],
   "source": [
    "write_point_cloud_object(points_xyzi,\"All_data.obj\")"
   ]
  },
  {
   "cell_type": "code",
   "execution_count": 12,
   "metadata": {},
   "outputs": [],
   "source": [
    "#Using open3d - creating open3d object\n",
    "p = o3d.geometry.PointCloud()\n",
    "# print(points_xyzi.shape)\n",
    "p.points = o3d.utility.Vector3dVector(points_xyzi[ : , 0:3])\n",
    "# help(o3d.geometry.PointCloud().colors)\n",
    "intens = np.zeros((np.size(points_xyzi[ : , 3]),3))\n",
    "scaled_intensity = points_xyzi[ : , 3]/255\n",
    "intens[:,0] = np.reshape(scaled_intensity,-1)\n",
    "intens[:,1] = np.reshape(scaled_intensity,-1)\n",
    "intens[:,2] = np.reshape(scaled_intensity,-1)\n",
    "p.colors = o3d.utility.Vector3dVector(intens)\n",
    "# # p.colors = o3d.utility.Vector3dVector(points_xyzi[ : , 3])\n",
    "o3d.io.write_point_cloud(\"./Alldata.ply\", p)\n",
    "o3d.visualization.draw_geometries([p])"
   ]
  },
  {
   "cell_type": "code",
   "execution_count": 19,
   "metadata": {},
   "outputs": [
    {
     "name": "stdout",
     "output_type": "stream",
     "text": [
      "1\n"
     ]
    }
   ],
   "source": [
    "#Downsampling by voxel\n",
    "down_voxel = o3d.geometry.voxel_down_sample(p, voxel_size=0.8)\n",
    "o3d.io.write_point_cloud(\"./Downsampled_voxel.ply\", down_voxel)\n",
    "# o3d.visualization.draw_geometries([down_voxel])\n",
    "\n",
    "\n",
    "#Downsampling uniformly\n",
    "down_uniform = o3d.geometry.uniform_down_sample(p, every_k_points=5)\n",
    "o3d.io.write_point_cloud(\"./Downsampled_uniform.ply\", down_uniform)\n",
    "# o3d.visualization.draw_geometries([down_uniform])\n",
    "\n",
    "#Downsampling statistical outlier removal\n",
    "down_stats, ind = o3d.geometry.statistical_outlier_removal(down_voxel,nb_neighbors=50,std_ratio=5.0)\n",
    "# inliers = o3d.geometry.select_down_sample(down_stats, ind)\n",
    "o3d.io.write_point_cloud(\"./Downsampled_Removed_Stat_Outliers.ply\", down_stats)\n",
    "o3d.visualization.draw_geometries([down_stats])\n",
    "print(np.size(p))"
   ]
  },
  {
   "cell_type": "code",
   "execution_count": 15,
   "metadata": {},
   "outputs": [
    {
     "name": "stdout",
     "output_type": "stream",
     "text": [
      "1292208\n",
      "53334\n",
      "53088\n"
     ]
    }
   ],
   "source": [
    "print(np.size(p.points))\n",
    "print(np.size(down_voxel.points))\n",
    "print(np.size(down_stats.points))"
   ]
  },
  {
   "cell_type": "code",
   "execution_count": 18,
   "metadata": {},
   "outputs": [],
   "source": [
    "#Get the normals\n",
    "normals = down_stats\n",
    "#Play with radius and nn numbers\n",
    "o3d.geometry.estimate_normals(normals,search_param=o3d.geometry.KDTreeSearchParamHybrid(radius=0.1,max_nn=30)) \n",
    "o3d.visualization.draw_geometries([normals]) #press n to see the normals"
   ]
  },
  {
   "cell_type": "code",
   "execution_count": null,
   "metadata": {},
   "outputs": [],
   "source": []
  },
  {
   "cell_type": "code",
   "execution_count": null,
   "metadata": {},
   "outputs": [],
   "source": []
  }
 ],
 "metadata": {
  "kernelspec": {
   "display_name": "Python 3",
   "language": "python",
   "name": "python3"
  },
  "language_info": {
   "codemirror_mode": {
    "name": "ipython",
    "version": 3
   },
   "file_extension": ".py",
   "mimetype": "text/x-python",
   "name": "python",
   "nbconvert_exporter": "python",
   "pygments_lexer": "ipython3",
   "version": "3.6.5"
  }
 },
 "nbformat": 4,
 "nbformat_minor": 2
}
