{
 "cells": [
  {
   "cell_type": "markdown",
   "metadata": {},
   "source": [
    "# HW2 Probe data"
   ]
  },
  {
   "cell_type": "markdown",
   "metadata": {},
   "source": [
    "## Set up"
   ]
  },
  {
   "cell_type": "markdown",
   "metadata": {},
   "source": [
    "### Import probe data and link data"
   ]
  },
  {
   "cell_type": "code",
   "execution_count": 1,
   "metadata": {},
   "outputs": [],
   "source": [
    "import pandas as pd \n",
    "# Read data from file 'filename.csv' \n",
    "# (in the same directory that your python process is based)\n",
    "# Control delimiters, rows, column names with read_csv (see later) \n",
    "ProbeData = pd.read_csv(\"Partition6467ProbePoints.csv\", header=None, names=[\"ID\",\"DateTime\",\"SourceCode\",\"Lat\",\"Lon\",\"Alt\",\"Speed\",\"Heading\"])\n",
    "ProbeData['DateTime'] = pd.to_datetime(ProbeData['DateTime'], format='%m/%d/%Y %I:%M:%S %p')\n",
    "LinkData = pd.read_csv(\"Partition6467LinkData.csv\",  header=None, names=[\"LinkID\",\"RefID\",\"NRefID\",\"Length\",\"Class\",\"DOT\",\"SpeedCat\",\"FSpeedLim\",\"TSpeedLim\",\"FLanes\",\"TLanes\",\"Digitized\",\"Urban\",\"TimeZone\",\"ShapeInfo\",\"CurvatureInfo\",\"SlopeInfo\"])\n"
   ]
  },
  {
   "cell_type": "markdown",
   "metadata": {},
   "source": [
    "Drop duplicates and check dataframes"
   ]
  },
  {
   "cell_type": "code",
   "execution_count": 2,
   "metadata": {},
   "outputs": [
    {
     "name": "stdout",
     "output_type": "stream",
     "text": [
      "27005960\n",
      "26229216\n"
     ]
    },
    {
     "data": {
      "text/html": [
       "<div>\n",
       "<style scoped>\n",
       "    .dataframe tbody tr th:only-of-type {\n",
       "        vertical-align: middle;\n",
       "    }\n",
       "\n",
       "    .dataframe tbody tr th {\n",
       "        vertical-align: top;\n",
       "    }\n",
       "\n",
       "    .dataframe thead th {\n",
       "        text-align: right;\n",
       "    }\n",
       "</style>\n",
       "<table border=\"1\" class=\"dataframe\">\n",
       "  <thead>\n",
       "    <tr style=\"text-align: right;\">\n",
       "      <th></th>\n",
       "      <th>ID</th>\n",
       "      <th>DateTime</th>\n",
       "      <th>SourceCode</th>\n",
       "      <th>Lat</th>\n",
       "      <th>Lon</th>\n",
       "      <th>Alt</th>\n",
       "      <th>Speed</th>\n",
       "      <th>Heading</th>\n",
       "    </tr>\n",
       "  </thead>\n",
       "  <tbody>\n",
       "    <tr>\n",
       "      <th>0</th>\n",
       "      <td>3496</td>\n",
       "      <td>2009-06-12 06:12:49</td>\n",
       "      <td>13</td>\n",
       "      <td>51.496868</td>\n",
       "      <td>9.386022</td>\n",
       "      <td>200</td>\n",
       "      <td>23</td>\n",
       "      <td>339</td>\n",
       "    </tr>\n",
       "    <tr>\n",
       "      <th>1</th>\n",
       "      <td>3496</td>\n",
       "      <td>2009-06-12 06:12:54</td>\n",
       "      <td>13</td>\n",
       "      <td>51.496682</td>\n",
       "      <td>9.386157</td>\n",
       "      <td>200</td>\n",
       "      <td>10</td>\n",
       "      <td>129</td>\n",
       "    </tr>\n",
       "    <tr>\n",
       "      <th>2</th>\n",
       "      <td>3496</td>\n",
       "      <td>2009-06-12 06:12:59</td>\n",
       "      <td>13</td>\n",
       "      <td>51.496705</td>\n",
       "      <td>9.386422</td>\n",
       "      <td>201</td>\n",
       "      <td>21</td>\n",
       "      <td>60</td>\n",
       "    </tr>\n",
       "    <tr>\n",
       "      <th>3</th>\n",
       "      <td>3496</td>\n",
       "      <td>2009-06-12 06:13:04</td>\n",
       "      <td>13</td>\n",
       "      <td>51.496749</td>\n",
       "      <td>9.386840</td>\n",
       "      <td>201</td>\n",
       "      <td>0</td>\n",
       "      <td>360</td>\n",
       "    </tr>\n",
       "    <tr>\n",
       "      <th>4</th>\n",
       "      <td>3496</td>\n",
       "      <td>2009-06-12 06:13:09</td>\n",
       "      <td>13</td>\n",
       "      <td>51.496864</td>\n",
       "      <td>9.387294</td>\n",
       "      <td>199</td>\n",
       "      <td>0</td>\n",
       "      <td>360</td>\n",
       "    </tr>\n",
       "  </tbody>\n",
       "</table>\n",
       "</div>"
      ],
      "text/plain": [
       "     ID            DateTime  SourceCode        Lat       Lon  Alt  Speed  \\\n",
       "0  3496 2009-06-12 06:12:49          13  51.496868  9.386022  200     23   \n",
       "1  3496 2009-06-12 06:12:54          13  51.496682  9.386157  200     10   \n",
       "2  3496 2009-06-12 06:12:59          13  51.496705  9.386422  201     21   \n",
       "3  3496 2009-06-12 06:13:04          13  51.496749  9.386840  201      0   \n",
       "4  3496 2009-06-12 06:13:09          13  51.496864  9.387294  199      0   \n",
       "\n",
       "   Heading  \n",
       "0      339  \n",
       "1      129  \n",
       "2       60  \n",
       "3      360  \n",
       "4      360  "
      ]
     },
     "execution_count": 2,
     "metadata": {},
     "output_type": "execute_result"
    }
   ],
   "source": [
    "print(ProbeData.size)\n",
    "ProbeData.drop_duplicates(inplace=True)\n",
    "print(ProbeData.size)\n",
    "ProbeData.head()"
   ]
  },
  {
   "cell_type": "code",
   "execution_count": 3,
   "metadata": {},
   "outputs": [
    {
     "data": {
      "text/html": [
       "<div>\n",
       "<style scoped>\n",
       "    .dataframe tbody tr th:only-of-type {\n",
       "        vertical-align: middle;\n",
       "    }\n",
       "\n",
       "    .dataframe tbody tr th {\n",
       "        vertical-align: top;\n",
       "    }\n",
       "\n",
       "    .dataframe thead th {\n",
       "        text-align: right;\n",
       "    }\n",
       "</style>\n",
       "<table border=\"1\" class=\"dataframe\">\n",
       "  <thead>\n",
       "    <tr style=\"text-align: right;\">\n",
       "      <th></th>\n",
       "      <th>LinkID</th>\n",
       "      <th>RefID</th>\n",
       "      <th>NRefID</th>\n",
       "      <th>Length</th>\n",
       "      <th>Class</th>\n",
       "      <th>DOT</th>\n",
       "      <th>SpeedCat</th>\n",
       "      <th>FSpeedLim</th>\n",
       "      <th>TSpeedLim</th>\n",
       "      <th>FLanes</th>\n",
       "      <th>TLanes</th>\n",
       "      <th>Digitized</th>\n",
       "      <th>Urban</th>\n",
       "      <th>TimeZone</th>\n",
       "      <th>ShapeInfo</th>\n",
       "      <th>CurvatureInfo</th>\n",
       "      <th>SlopeInfo</th>\n",
       "    </tr>\n",
       "  </thead>\n",
       "  <tbody>\n",
       "    <tr>\n",
       "      <th>0</th>\n",
       "      <td>62007637</td>\n",
       "      <td>162844982</td>\n",
       "      <td>162809070</td>\n",
       "      <td>335.04</td>\n",
       "      <td>5</td>\n",
       "      <td>B</td>\n",
       "      <td>7</td>\n",
       "      <td>30</td>\n",
       "      <td>30</td>\n",
       "      <td>0</td>\n",
       "      <td>0</td>\n",
       "      <td>F</td>\n",
       "      <td>T</td>\n",
       "      <td>0.0</td>\n",
       "      <td>51.4965800/9.3862299/|51.4994700/9.3848799/</td>\n",
       "      <td>0</td>\n",
       "      <td>0</td>\n",
       "    </tr>\n",
       "    <tr>\n",
       "      <th>1</th>\n",
       "      <td>567329767</td>\n",
       "      <td>162844982</td>\n",
       "      <td>162981512</td>\n",
       "      <td>134.56</td>\n",
       "      <td>5</td>\n",
       "      <td>B</td>\n",
       "      <td>7</td>\n",
       "      <td>0</td>\n",
       "      <td>0</td>\n",
       "      <td>0</td>\n",
       "      <td>0</td>\n",
       "      <td>F</td>\n",
       "      <td>T</td>\n",
       "      <td>0.0</td>\n",
       "      <td>51.4965800/9.3862299/|51.4966899/9.3867100/|51...</td>\n",
       "      <td>0</td>\n",
       "      <td>0</td>\n",
       "    </tr>\n",
       "    <tr>\n",
       "      <th>2</th>\n",
       "      <td>62007648</td>\n",
       "      <td>162877732</td>\n",
       "      <td>162844982</td>\n",
       "      <td>97.01</td>\n",
       "      <td>5</td>\n",
       "      <td>B</td>\n",
       "      <td>7</td>\n",
       "      <td>30</td>\n",
       "      <td>30</td>\n",
       "      <td>0</td>\n",
       "      <td>0</td>\n",
       "      <td>F</td>\n",
       "      <td>T</td>\n",
       "      <td>0.0</td>\n",
       "      <td>51.4962899/9.3849100/|51.4965800/9.3862299/</td>\n",
       "      <td>0</td>\n",
       "      <td>0</td>\n",
       "    </tr>\n",
       "    <tr>\n",
       "      <th>3</th>\n",
       "      <td>78670326</td>\n",
       "      <td>162877732</td>\n",
       "      <td>163152693</td>\n",
       "      <td>314.84</td>\n",
       "      <td>5</td>\n",
       "      <td>B</td>\n",
       "      <td>7</td>\n",
       "      <td>30</td>\n",
       "      <td>30</td>\n",
       "      <td>0</td>\n",
       "      <td>0</td>\n",
       "      <td>F</td>\n",
       "      <td>T</td>\n",
       "      <td>0.0</td>\n",
       "      <td>51.4962899/9.3849100/|51.4990000/9.3836099/</td>\n",
       "      <td>0</td>\n",
       "      <td>0</td>\n",
       "    </tr>\n",
       "    <tr>\n",
       "      <th>4</th>\n",
       "      <td>51881672</td>\n",
       "      <td>174713859</td>\n",
       "      <td>174587951</td>\n",
       "      <td>110.17</td>\n",
       "      <td>3</td>\n",
       "      <td>B</td>\n",
       "      <td>6</td>\n",
       "      <td>50</td>\n",
       "      <td>50</td>\n",
       "      <td>2</td>\n",
       "      <td>2</td>\n",
       "      <td>F</td>\n",
       "      <td>T</td>\n",
       "      <td>0.0</td>\n",
       "      <td>53.0643099/8.7903400/45.79|53.0650299/8.791470...</td>\n",
       "      <td>0</td>\n",
       "      <td>0.00/-0.090|110.17/0.062</td>\n",
       "    </tr>\n",
       "  </tbody>\n",
       "</table>\n",
       "</div>"
      ],
      "text/plain": [
       "      LinkID      RefID     NRefID  Length  Class DOT  SpeedCat  FSpeedLim  \\\n",
       "0   62007637  162844982  162809070  335.04      5   B         7         30   \n",
       "1  567329767  162844982  162981512  134.56      5   B         7          0   \n",
       "2   62007648  162877732  162844982   97.01      5   B         7         30   \n",
       "3   78670326  162877732  163152693  314.84      5   B         7         30   \n",
       "4   51881672  174713859  174587951  110.17      3   B         6         50   \n",
       "\n",
       "   TSpeedLim  FLanes  TLanes Digitized Urban  TimeZone  \\\n",
       "0         30       0       0         F     T       0.0   \n",
       "1          0       0       0         F     T       0.0   \n",
       "2         30       0       0         F     T       0.0   \n",
       "3         30       0       0         F     T       0.0   \n",
       "4         50       2       2         F     T       0.0   \n",
       "\n",
       "                                           ShapeInfo CurvatureInfo  \\\n",
       "0        51.4965800/9.3862299/|51.4994700/9.3848799/             0   \n",
       "1  51.4965800/9.3862299/|51.4966899/9.3867100/|51...             0   \n",
       "2        51.4962899/9.3849100/|51.4965800/9.3862299/             0   \n",
       "3        51.4962899/9.3849100/|51.4990000/9.3836099/             0   \n",
       "4  53.0643099/8.7903400/45.79|53.0650299/8.791470...             0   \n",
       "\n",
       "                  SlopeInfo  \n",
       "0                         0  \n",
       "1                         0  \n",
       "2                         0  \n",
       "3                         0  \n",
       "4  0.00/-0.090|110.17/0.062  "
      ]
     },
     "execution_count": 3,
     "metadata": {},
     "output_type": "execute_result"
    }
   ],
   "source": [
    "LinkData.fillna(\"0\", inplace=True)\n",
    "LinkData.head()"
   ]
  },
  {
   "cell_type": "code",
   "execution_count": 4,
   "metadata": {},
   "outputs": [
    {
     "data": {
      "text/html": [
       "<div>\n",
       "<style scoped>\n",
       "    .dataframe tbody tr th:only-of-type {\n",
       "        vertical-align: middle;\n",
       "    }\n",
       "\n",
       "    .dataframe tbody tr th {\n",
       "        vertical-align: top;\n",
       "    }\n",
       "\n",
       "    .dataframe thead th {\n",
       "        text-align: right;\n",
       "    }\n",
       "</style>\n",
       "<table border=\"1\" class=\"dataframe\">\n",
       "  <thead>\n",
       "    <tr style=\"text-align: right;\">\n",
       "      <th></th>\n",
       "      <th>LinkID</th>\n",
       "      <th>RefID</th>\n",
       "      <th>NRefID</th>\n",
       "      <th>Length</th>\n",
       "      <th>Class</th>\n",
       "      <th>DOT</th>\n",
       "      <th>SpeedCat</th>\n",
       "      <th>FSpeedLim</th>\n",
       "      <th>TSpeedLim</th>\n",
       "      <th>FLanes</th>\n",
       "      <th>TLanes</th>\n",
       "      <th>Digitized</th>\n",
       "      <th>Urban</th>\n",
       "      <th>TimeZone</th>\n",
       "      <th>ShapeInfo</th>\n",
       "      <th>CurvatureInfo</th>\n",
       "      <th>SlopeInfo</th>\n",
       "      <th>ShapeArr</th>\n",
       "      <th>SlopeArr</th>\n",
       "      <th>CurvatureArr</th>\n",
       "    </tr>\n",
       "  </thead>\n",
       "  <tbody>\n",
       "    <tr>\n",
       "      <th>0</th>\n",
       "      <td>62007637</td>\n",
       "      <td>162844982</td>\n",
       "      <td>162809070</td>\n",
       "      <td>335.04</td>\n",
       "      <td>5</td>\n",
       "      <td>B</td>\n",
       "      <td>7</td>\n",
       "      <td>30</td>\n",
       "      <td>30</td>\n",
       "      <td>0</td>\n",
       "      <td>0</td>\n",
       "      <td>F</td>\n",
       "      <td>T</td>\n",
       "      <td>0.0</td>\n",
       "      <td>51.4965800/9.3862299/|51.4994700/9.3848799/</td>\n",
       "      <td>0</td>\n",
       "      <td>0</td>\n",
       "      <td>[[51.49658, 9.3862299], [51.49947, 9.3848799]]</td>\n",
       "      <td>[[0.0]]</td>\n",
       "      <td>[[0.0]]</td>\n",
       "    </tr>\n",
       "    <tr>\n",
       "      <th>1</th>\n",
       "      <td>567329767</td>\n",
       "      <td>162844982</td>\n",
       "      <td>162981512</td>\n",
       "      <td>134.56</td>\n",
       "      <td>5</td>\n",
       "      <td>B</td>\n",
       "      <td>7</td>\n",
       "      <td>0</td>\n",
       "      <td>0</td>\n",
       "      <td>0</td>\n",
       "      <td>0</td>\n",
       "      <td>F</td>\n",
       "      <td>T</td>\n",
       "      <td>0.0</td>\n",
       "      <td>51.4965800/9.3862299/|51.4966899/9.3867100/|51...</td>\n",
       "      <td>0</td>\n",
       "      <td>0</td>\n",
       "      <td>[[51.49658, 9.3862299], [51.4966899, 9.38671],...</td>\n",
       "      <td>[[0.0]]</td>\n",
       "      <td>[[0.0]]</td>\n",
       "    </tr>\n",
       "    <tr>\n",
       "      <th>2</th>\n",
       "      <td>62007648</td>\n",
       "      <td>162877732</td>\n",
       "      <td>162844982</td>\n",
       "      <td>97.01</td>\n",
       "      <td>5</td>\n",
       "      <td>B</td>\n",
       "      <td>7</td>\n",
       "      <td>30</td>\n",
       "      <td>30</td>\n",
       "      <td>0</td>\n",
       "      <td>0</td>\n",
       "      <td>F</td>\n",
       "      <td>T</td>\n",
       "      <td>0.0</td>\n",
       "      <td>51.4962899/9.3849100/|51.4965800/9.3862299/</td>\n",
       "      <td>0</td>\n",
       "      <td>0</td>\n",
       "      <td>[[51.4962899, 9.38491], [51.49658, 9.3862299]]</td>\n",
       "      <td>[[0.0]]</td>\n",
       "      <td>[[0.0]]</td>\n",
       "    </tr>\n",
       "    <tr>\n",
       "      <th>3</th>\n",
       "      <td>78670326</td>\n",
       "      <td>162877732</td>\n",
       "      <td>163152693</td>\n",
       "      <td>314.84</td>\n",
       "      <td>5</td>\n",
       "      <td>B</td>\n",
       "      <td>7</td>\n",
       "      <td>30</td>\n",
       "      <td>30</td>\n",
       "      <td>0</td>\n",
       "      <td>0</td>\n",
       "      <td>F</td>\n",
       "      <td>T</td>\n",
       "      <td>0.0</td>\n",
       "      <td>51.4962899/9.3849100/|51.4990000/9.3836099/</td>\n",
       "      <td>0</td>\n",
       "      <td>0</td>\n",
       "      <td>[[51.4962899, 9.38491], [51.499, 9.3836099]]</td>\n",
       "      <td>[[0.0]]</td>\n",
       "      <td>[[0.0]]</td>\n",
       "    </tr>\n",
       "    <tr>\n",
       "      <th>4</th>\n",
       "      <td>51881672</td>\n",
       "      <td>174713859</td>\n",
       "      <td>174587951</td>\n",
       "      <td>110.17</td>\n",
       "      <td>3</td>\n",
       "      <td>B</td>\n",
       "      <td>6</td>\n",
       "      <td>50</td>\n",
       "      <td>50</td>\n",
       "      <td>2</td>\n",
       "      <td>2</td>\n",
       "      <td>F</td>\n",
       "      <td>T</td>\n",
       "      <td>0.0</td>\n",
       "      <td>53.0643099/8.7903400/45.79|53.0650299/8.791470...</td>\n",
       "      <td>0</td>\n",
       "      <td>0.00/-0.090|110.17/0.062</td>\n",
       "      <td>[[53.0643099, 8.79034], [53.0650299, 8.79147]]</td>\n",
       "      <td>[[0.0, -0.09], [110.17, 0.062]]</td>\n",
       "      <td>[[0.0]]</td>\n",
       "    </tr>\n",
       "  </tbody>\n",
       "</table>\n",
       "</div>"
      ],
      "text/plain": [
       "      LinkID      RefID     NRefID  Length  Class DOT  SpeedCat  FSpeedLim  \\\n",
       "0   62007637  162844982  162809070  335.04      5   B         7         30   \n",
       "1  567329767  162844982  162981512  134.56      5   B         7          0   \n",
       "2   62007648  162877732  162844982   97.01      5   B         7         30   \n",
       "3   78670326  162877732  163152693  314.84      5   B         7         30   \n",
       "4   51881672  174713859  174587951  110.17      3   B         6         50   \n",
       "\n",
       "   TSpeedLim  FLanes  TLanes Digitized Urban  TimeZone  \\\n",
       "0         30       0       0         F     T       0.0   \n",
       "1          0       0       0         F     T       0.0   \n",
       "2         30       0       0         F     T       0.0   \n",
       "3         30       0       0         F     T       0.0   \n",
       "4         50       2       2         F     T       0.0   \n",
       "\n",
       "                                           ShapeInfo CurvatureInfo  \\\n",
       "0        51.4965800/9.3862299/|51.4994700/9.3848799/             0   \n",
       "1  51.4965800/9.3862299/|51.4966899/9.3867100/|51...             0   \n",
       "2        51.4962899/9.3849100/|51.4965800/9.3862299/             0   \n",
       "3        51.4962899/9.3849100/|51.4990000/9.3836099/             0   \n",
       "4  53.0643099/8.7903400/45.79|53.0650299/8.791470...             0   \n",
       "\n",
       "                  SlopeInfo  \\\n",
       "0                         0   \n",
       "1                         0   \n",
       "2                         0   \n",
       "3                         0   \n",
       "4  0.00/-0.090|110.17/0.062   \n",
       "\n",
       "                                            ShapeArr  \\\n",
       "0     [[51.49658, 9.3862299], [51.49947, 9.3848799]]   \n",
       "1  [[51.49658, 9.3862299], [51.4966899, 9.38671],...   \n",
       "2     [[51.4962899, 9.38491], [51.49658, 9.3862299]]   \n",
       "3       [[51.4962899, 9.38491], [51.499, 9.3836099]]   \n",
       "4     [[53.0643099, 8.79034], [53.0650299, 8.79147]]   \n",
       "\n",
       "                          SlopeArr CurvatureArr  \n",
       "0                          [[0.0]]      [[0.0]]  \n",
       "1                          [[0.0]]      [[0.0]]  \n",
       "2                          [[0.0]]      [[0.0]]  \n",
       "3                          [[0.0]]      [[0.0]]  \n",
       "4  [[0.0, -0.09], [110.17, 0.062]]      [[0.0]]  "
      ]
     },
     "execution_count": 4,
     "metadata": {},
     "output_type": "execute_result"
    }
   ],
   "source": [
    "LinkData['ShapeArr'] = LinkData['ShapeInfo'].apply(lambda x: [[float(j) for j in i.split('/')[:2]] for i in x.split('|')])\n",
    "LinkData['SlopeArr'] = LinkData['SlopeInfo'].apply(lambda x: [[float(j) for j in i.split('/')[:2]] for i in x.split('|')])\n",
    "LinkData['CurvatureArr'] = LinkData['CurvatureInfo'].apply(lambda x: [[float(j) for j in i.split('/')[:2]] for i in x.split('|')])\n",
    "LinkData.head(5)"
   ]
  },
  {
   "cell_type": "markdown",
   "metadata": {},
   "source": [
    "Check number of probes"
   ]
  },
  {
   "cell_type": "code",
   "execution_count": 5,
   "metadata": {},
   "outputs": [
    {
     "data": {
      "text/plain": [
       "75840"
      ]
     },
     "execution_count": 5,
     "metadata": {},
     "output_type": "execute_result"
    }
   ],
   "source": [
    "ProbeData['ID'].nunique()"
   ]
  },
  {
   "cell_type": "markdown",
   "metadata": {},
   "source": [
    "### Visualize raw data\n",
    "This is commented as it takes long to run"
   ]
  },
  {
   "cell_type": "code",
   "execution_count": 6,
   "metadata": {},
   "outputs": [],
   "source": [
    "import matplotlib\n",
    "import matplotlib.pyplot as plt\n",
    "import numpy as np\n",
    "import matplotlib.cm as cm\n",
    "%matplotlib inline  \n",
    "# x = np.array([ProbeData['Lat']])[0][:]\n",
    "# y = np.array([ProbeData['Lon']])[0][:]\n",
    "# label = np.array([ProbeData['ID']])[0][:]\n",
    "# colors = ['red','green','blue','purple','yellow','pink','orange','grey','cyan']\n",
    "\n",
    "# fig = plt.figure(figsize=(12,10))\n",
    "# plt.scatter(x, y,s=2, c=label, cmap=cm.prism)\n",
    "# plt.show()"
   ]
  },
  {
   "cell_type": "markdown",
   "metadata": {},
   "source": [
    "![](raw_data_prism.png)"
   ]
  },
  {
   "cell_type": "markdown",
   "metadata": {},
   "source": [
    "Google maps API"
   ]
  },
  {
   "cell_type": "code",
   "execution_count": 7,
   "metadata": {},
   "outputs": [],
   "source": [
    "import json\n",
    "import requests\n",
    "import gmaps\n",
    "import gmaps.datasets"
   ]
  },
  {
   "cell_type": "markdown",
   "metadata": {},
   "source": [
    "Get API-key from config.json file"
   ]
  },
  {
   "cell_type": "code",
   "execution_count": 8,
   "metadata": {},
   "outputs": [],
   "source": [
    "with open('config.json') as data_file:\n",
    "    data = json.load(data_file)\n",
    "    GOOGLE_MAPS_KEY = data['google-maps-key']"
   ]
  },
  {
   "cell_type": "markdown",
   "metadata": {},
   "source": [
    "Use the api.\n",
    "This will open a random map but it will change to fit the probe locations when they are plotted."
   ]
  },
  {
   "cell_type": "code",
   "execution_count": 9,
   "metadata": {
    "scrolled": false
   },
   "outputs": [
    {
     "data": {
      "application/vnd.jupyter.widget-view+json": {
       "model_id": "87b4b86debeb4194852df78213e9893f",
       "version_major": 2,
       "version_minor": 0
      },
      "text/plain": [
       "Figure(layout=FigureLayout(height='420px'))"
      ]
     },
     "metadata": {},
     "output_type": "display_data"
    }
   ],
   "source": [
    "gmaps.configure(api_key=GOOGLE_MAPS_KEY) # Your Google API key\n",
    "\n",
    "fig = gmaps.figure()\n",
    "fig"
   ]
  },
  {
   "cell_type": "markdown",
   "metadata": {},
   "source": [
    "Create data frame of location data from probe data."
   ]
  },
  {
   "cell_type": "code",
   "execution_count": 10,
   "metadata": {},
   "outputs": [],
   "source": [
    "df1 = ProbeData[['ID','Lat','Lon']]"
   ]
  },
  {
   "cell_type": "markdown",
   "metadata": {},
   "source": [
    "Test map with small subset of data (map becomes very slow with large amounts of data)"
   ]
  },
  {
   "cell_type": "markdown",
   "metadata": {},
   "source": [
    "### Probes"
   ]
  },
  {
   "cell_type": "code",
   "execution_count": 11,
   "metadata": {},
   "outputs": [
    {
     "data": {
      "application/vnd.jupyter.widget-view+json": {
       "model_id": "87b4b86debeb4194852df78213e9893f",
       "version_major": 2,
       "version_minor": 0
      },
      "text/plain": [
       "Figure(layout=FigureLayout(height='420px'))"
      ]
     },
     "metadata": {},
     "output_type": "display_data"
    }
   ],
   "source": [
    "colors = ['green','red','blue','yellow','purple','white','black','green','red','blue','yellow','purple','white','black','green','red','blue','yellow','purple','white','black']\n",
    "for i in range(10):\n",
    "    ProbeData1 = ProbeData[ProbeData[\"ID\"]==(ProbeData.groupby('ID').count()).index[i+1]]\n",
    "    ProbeData1 = ProbeData1[['Lat', 'Lon']]\n",
    "    probe_layer = gmaps.symbol_layer(ProbeData1, fill_color=colors[i], stroke_color=colors[i], scale=2)\n",
    "    fig.add_layer(probe_layer)\n",
    "fig"
   ]
  },
  {
   "cell_type": "markdown",
   "metadata": {},
   "source": [
    "### Links"
   ]
  },
  {
   "cell_type": "code",
   "execution_count": 12,
   "metadata": {},
   "outputs": [
    {
     "name": "stdout",
     "output_type": "stream",
     "text": [
      "[[53.0650299, 8.79147], [53.0657462, 8.7926443], [53.06639, 8.7937]]\n"
     ]
    }
   ],
   "source": [
    "print(LinkData['ShapeArr'][5])"
   ]
  },
  {
   "cell_type": "code",
   "execution_count": 13,
   "metadata": {},
   "outputs": [
    {
     "data": {
      "application/vnd.jupyter.widget-view+json": {
       "model_id": "fd9f5573837d4e3ebf4c10159cbb00c7",
       "version_major": 2,
       "version_minor": 0
      },
      "text/plain": [
       "Figure(layout=FigureLayout(height='420px'))"
      ]
     },
     "metadata": {},
     "output_type": "display_data"
    }
   ],
   "source": [
    "co_ords = [(50.62500+53.43750)/2, (11.25000+8.43751)/2]\n",
    "fig2 = gmaps.figure(center=(co_ords[0], co_ords[1]), zoom_level=7)\n",
    "colors = ['green','red','blue','yellow','purple','white','black']\n",
    "links = []\n",
    "j = 0\n",
    "for i in range(500):\n",
    "    if (j>6):\n",
    "        j = 0\n",
    "    link = gmaps.Line(\n",
    "        start=(LinkData['ShapeArr'][i][0][0],LinkData['ShapeArr'][i][0][1]),\n",
    "        end=(LinkData['ShapeArr'][i][1][0],LinkData['ShapeArr'][i][1][1]),\n",
    "        stroke_weight=10.0,\n",
    "        stroke_color=colors[j])\n",
    "    j = j + 1\n",
    "    links.append(link)\n",
    "probe_layer = gmaps.drawing_layer(features=links)\n",
    "fig2.add_layer(probe_layer)\n",
    "fig2"
   ]
  },
  {
   "cell_type": "code",
   "execution_count": 14,
   "metadata": {},
   "outputs": [
    {
     "name": "stdout",
     "output_type": "stream",
     "text": [
      "51.49658\n"
     ]
    }
   ],
   "source": [
    "print(LinkData['ShapeArr'][0][0][0])"
   ]
  },
  {
   "cell_type": "markdown",
   "metadata": {},
   "source": [
    "## Point matching"
   ]
  },
  {
   "cell_type": "code",
   "execution_count": 44,
   "metadata": {},
   "outputs": [],
   "source": [
    "import numpy as np\n",
    "from haversine import haversine\n",
    "def dist(p1,p2,p3):\n",
    "    return np.linalg.norm(np.cross(p2-p1, p1-p3))/np.linalg.norm(p2-p1)\n",
    "\n",
    "def find_closest(probe_point):\n",
    "    tmp_col = LinkData[['LinkID', 'ShapeInfo']]\n",
    "    tmp_col['min_link_dist'] = tmp_col['ShapeInfo'].apply(lambda x: min(haversine(probe_point, [float(j) for j in i.split('/')[:2]]) for i in x.split('|')))\n",
    "    print(tmp_col.head())\n",
    "    print(tmp_col.ix[tmp_col['min_link_dist'].idxmin()])\n",
    "    return tmp_col.ix[tmp_col['min_link_dist'].idxmin()]['LinkID']"
   ]
  },
  {
   "cell_type": "code",
   "execution_count": 45,
   "metadata": {},
   "outputs": [
    {
     "ename": "NameError",
     "evalue": "name 'tmp_col' is not defined",
     "output_type": "error",
     "traceback": [
      "\u001b[0;31m---------------------------------------------------------------------------\u001b[0m",
      "\u001b[0;31mNameError\u001b[0m                                 Traceback (most recent call last)",
      "\u001b[0;32m<ipython-input-45-d6396227b945>\u001b[0m in \u001b[0;36m<module>\u001b[0;34m\u001b[0m\n\u001b[0;32m----> 1\u001b[0;31m \u001b[0mtmp_col\u001b[0m\u001b[0;34m.\u001b[0m\u001b[0mhead\u001b[0m\u001b[0;34m(\u001b[0m\u001b[0;34m)\u001b[0m\u001b[0;34m\u001b[0m\u001b[0m\n\u001b[0m",
      "\u001b[0;31mNameError\u001b[0m: name 'tmp_col' is not defined"
     ]
    }
   ],
   "source": [
    "tmp_col.head()"
   ]
  },
  {
   "cell_type": "code",
   "execution_count": 49,
   "metadata": {},
   "outputs": [
    {
     "name": "stdout",
     "output_type": "stream",
     "text": [
      "      LinkID                                          ShapeInfo  min_link_dist\n",
      "0   62007637        51.4965800/9.3862299/|51.4994700/9.3848799/       0.035125\n",
      "1  567329767  51.4965800/9.3862299/|51.4966899/9.3867100/|51...       0.035125\n",
      "2   62007648        51.4962899/9.3849100/|51.4965800/9.3862299/       0.035125\n",
      "3   78670326        51.4962899/9.3849100/|51.4990000/9.3836099/       0.100317\n",
      "4   51881672  53.0643099/8.7903400/45.79|53.0650299/8.791470...     178.938972\n",
      "LinkID                                              62007637\n",
      "ShapeInfo        51.4965800/9.3862299/|51.4994700/9.3848799/\n",
      "min_link_dist                                       0.035125\n",
      "Name: 0, dtype: object\n"
     ]
    },
    {
     "name": "stderr",
     "output_type": "stream",
     "text": [
      "/home/jordan/.local/lib/python3.6/site-packages/ipykernel_launcher.py:8: SettingWithCopyWarning: \n",
      "A value is trying to be set on a copy of a slice from a DataFrame.\n",
      "Try using .loc[row_indexer,col_indexer] = value instead\n",
      "\n",
      "See the caveats in the documentation: http://pandas.pydata.org/pandas-docs/stable/indexing.html#indexing-view-versus-copy\n",
      "  \n",
      "/home/jordan/.local/lib/python3.6/site-packages/ipykernel_launcher.py:10: DeprecationWarning: \n",
      ".ix is deprecated. Please use\n",
      ".loc for label based indexing or\n",
      ".iloc for positional indexing\n",
      "\n",
      "See the documentation here:\n",
      "http://pandas.pydata.org/pandas-docs/stable/indexing.html#ix-indexer-is-deprecated\n",
      "  # Remove the CWD from sys.path while we load stuff.\n",
      "/home/jordan/.local/lib/python3.6/site-packages/ipykernel_launcher.py:11: DeprecationWarning: \n",
      ".ix is deprecated. Please use\n",
      ".loc for label based indexing or\n",
      ".iloc for positional indexing\n",
      "\n",
      "See the documentation here:\n",
      "http://pandas.pydata.org/pandas-docs/stable/indexing.html#ix-indexer-is-deprecated\n",
      "  # This is added back by InteractiveShellApp.init_path()\n"
     ]
    },
    {
     "data": {
      "text/plain": [
       "62007637"
      ]
     },
     "execution_count": 49,
     "metadata": {},
     "output_type": "execute_result"
    }
   ],
   "source": [
    "find_closest([ProbeData['Lat'][0],ProbeData['Lon'][0]])"
   ]
  },
  {
   "cell_type": "code",
   "execution_count": 50,
   "metadata": {},
   "outputs": [],
   "source": [
    "link_points = list(LinkData[LinkData['LinkID']==62007637]['ShapeArr'])[0]"
   ]
  },
  {
   "cell_type": "code",
   "execution_count": 74,
   "metadata": {},
   "outputs": [
    {
     "data": {
      "text/html": [
       "<div>\n",
       "<style scoped>\n",
       "    .dataframe tbody tr th:only-of-type {\n",
       "        vertical-align: middle;\n",
       "    }\n",
       "\n",
       "    .dataframe tbody tr th {\n",
       "        vertical-align: top;\n",
       "    }\n",
       "\n",
       "    .dataframe thead th {\n",
       "        text-align: right;\n",
       "    }\n",
       "</style>\n",
       "<table border=\"1\" class=\"dataframe\">\n",
       "  <thead>\n",
       "    <tr style=\"text-align: right;\">\n",
       "      <th></th>\n",
       "      <th>Lat</th>\n",
       "      <th>Lon</th>\n",
       "    </tr>\n",
       "  </thead>\n",
       "  <tbody>\n",
       "    <tr>\n",
       "      <th>0</th>\n",
       "      <td>51.496868</td>\n",
       "      <td>9.386022</td>\n",
       "    </tr>\n",
       "  </tbody>\n",
       "</table>\n",
       "</div>"
      ],
      "text/plain": [
       "         Lat       Lon\n",
       "0  51.496868  9.386022"
      ]
     },
     "execution_count": 74,
     "metadata": {},
     "output_type": "execute_result"
    }
   ],
   "source": [
    "ProbeData1 = ProbeData[ProbeData[\"ID\"]==(ProbeData.groupby('ID').count()).index[0]]\n",
    "ProbeData1 = ProbeData1[['Lat', 'Lon']]\n",
    "ProbeData1.loc[[0]]"
   ]
  },
  {
   "cell_type": "code",
   "execution_count": 75,
   "metadata": {},
   "outputs": [
    {
     "data": {
      "application/vnd.jupyter.widget-view+json": {
       "model_id": "67b0eaa8b4d54d68a1a3ad2507b2796c",
       "version_major": 2,
       "version_minor": 0
      },
      "text/plain": [
       "Figure(layout=FigureLayout(height='420px'))"
      ]
     },
     "metadata": {},
     "output_type": "display_data"
    }
   ],
   "source": [
    "co_ords = [(50.62500+53.43750)/2, (11.25000+8.43751)/2]\n",
    "fig3 = gmaps.figure(center=(co_ords[0], co_ords[1]), zoom_level=7)\n",
    "colors = ['green','red','blue','yellow','purple','white','black']\n",
    "links = []\n",
    "j = 0\n",
    "for i in range(len(list(LinkData[LinkData['LinkID']==62007637]['ShapeArr'])[0])-1):\n",
    "    link = gmaps.Line(\n",
    "        start=(link_points[i][0],link_points[i][1]),\n",
    "        end=(link_points[i+1][0],link_points[i+1][1]),\n",
    "        stroke_weight=10.0,\n",
    "        stroke_color=colors[0])\n",
    "    links.append(link)\n",
    "probe_layer = gmaps.drawing_layer(features=links)\n",
    "fig3.add_layer(probe_layer)\n",
    "\n",
    "ProbeData1 = ProbeData[ProbeData[\"ID\"]==(ProbeData.groupby('ID').count()).index[0]]\n",
    "ProbeData1 = ProbeData1[['Lat', 'Lon']]\n",
    "probe_layer = gmaps.symbol_layer(ProbeData1.loc[[0]], fill_color='red', stroke_color='red', scale=2)\n",
    "fig3.add_layer(probe_layer)\n",
    "fig3"
   ]
  },
  {
   "cell_type": "code",
   "execution_count": null,
   "metadata": {},
   "outputs": [],
   "source": []
  }
 ],
 "metadata": {
  "kernelspec": {
   "display_name": "Python 3",
   "language": "python",
   "name": "python3"
  },
  "language_info": {
   "codemirror_mode": {
    "name": "ipython",
    "version": 3
   },
   "file_extension": ".py",
   "mimetype": "text/x-python",
   "name": "python",
   "nbconvert_exporter": "python",
   "pygments_lexer": "ipython3",
   "version": "3.6.5"
  }
 },
 "nbformat": 4,
 "nbformat_minor": 2
}
